{
  "cells": [
    {
      "cell_type": "markdown",
      "metadata": {
        "id": "p33OvfF0-aHX"
      },
      "source": [
        "# 1. print hello python"
      ]
    },
    {
      "cell_type": "code",
      "execution_count": null,
      "metadata": {
        "id": "SS3H8k7J7wbv",
        "colab": {
          "base_uri": "https://localhost:8080/"
        },
        "outputId": "21733a3a-df6e-4899-c865-3b0ef67c4f7d"
      },
      "outputs": [
        {
          "output_type": "stream",
          "name": "stdout",
          "text": [
            "hello python\n"
          ]
        }
      ],
      "source": [
        "print (\"hello python\")"
      ]
    },
    {
      "cell_type": "markdown",
      "metadata": {
        "id": "NgzCMyyZ-SAg"
      },
      "source": [
        "# 2. arithmetic"
      ]
    },
    {
      "cell_type": "code",
      "execution_count": null,
      "metadata": {
        "id": "_OdnUOhjpsYs",
        "colab": {
          "base_uri": "https://localhost:8080/"
        },
        "outputId": "563b2aec-0078-466a-d48c-64821ac0f3dd"
      },
      "outputs": [
        {
          "output_type": "stream",
          "name": "stdout",
          "text": [
            "7\n",
            "3\n",
            "10\n",
            "2.5\n",
            "1\n",
            "2\n",
            "25\n",
            "\n",
            "\n",
            "\n",
            "7\n",
            "3\n",
            "10\n",
            "2.5\n",
            "1\n",
            "2\n",
            "25\n"
          ]
        }
      ],
      "source": [
        "print(5+2)\n",
        "print(5-2)\n",
        "print(5*2)\n",
        "print(5/2)\n",
        "print(5%2)\n",
        "print(5//2)            # for print integer part only\n",
        "print(5**2)            # for power\n",
        "\n",
        "print(\"\\n\\n\")         # \\n for new line\n",
        "\n",
        "#Using variable\n",
        "\n",
        "a=5\n",
        "b=2\n",
        "\n",
        "print (a+b)\n",
        "print (a-b)\n",
        "print (a*b)\n",
        "print (a/b)\n",
        "print (a%b)\n",
        "print (a//b)     # floor[point er ager digit]\n",
        "print (a**b)\n"
      ]
    },
    {
      "cell_type": "markdown",
      "metadata": {
        "id": "qanJw5-J-MjX"
      },
      "source": [
        "# 3. area of triangle"
      ]
    },
    {
      "cell_type": "code",
      "execution_count": null,
      "metadata": {
        "id": "BGtHaI0Y8k4G"
      },
      "outputs": [],
      "source": [
        "def area_of_triangle(b, h):\n",
        "    return 0.5 * b * h\n",
        "\n",
        "\n",
        "b = 5\n",
        "h = 10\n",
        "area = area_of_triangle(b, h)\n",
        "print(f\"The area of the triangle is: {area}\")\n"
      ]
    },
    {
      "cell_type": "markdown",
      "metadata": {
        "id": "lqE_BBL69-Zd"
      },
      "source": [
        "# 4. qudratic equ\n"
      ]
    },
    {
      "cell_type": "code",
      "execution_count": null,
      "metadata": {
        "id": "Y9mWjlIl98Cw"
      },
      "outputs": [],
      "source": [
        "    # import complex math module\n",
        "import cmath\n",
        "a = float(input('Enter a: '))\n",
        "b = float(input('Enter b: '))\n",
        "c = float(input('Enter c: '))\n",
        "\n",
        "\n",
        "d = (b**2) - (4*a*c)\n",
        "\n",
        "sol1 = (-b-cmath.sqrt(d))/(2*a)\n",
        "sol2 = (-b+cmath.sqrt(d))/(2*a)\n",
        "print('The solution are {0} and {1}'.format(sol1,sol2))"
      ]
    },
    {
      "cell_type": "markdown",
      "metadata": {
        "id": "3G30pkRC-v8P"
      },
      "source": [
        "# 5. swap"
      ]
    },
    {
      "cell_type": "code",
      "execution_count": null,
      "metadata": {
        "colab": {
          "base_uri": "https://localhost:8080/"
        },
        "id": "lWZ7-czR-x6v",
        "outputId": "5f1fd829-b190-4f18-e73f-6007c8f6b827"
      },
      "outputs": [
        {
          "name": "stdout",
          "output_type": "stream",
          "text": [
            "a = 4\n",
            "b = 5\n",
            "a=5,b = 4\n"
          ]
        }
      ],
      "source": [
        "a=int(input(\"a = \"))\n",
        "b=int(input(\"b = \"))\n",
        "a,b=b,a\n",
        "print(f\"a={a},b={b}\")"
      ]
    },
    {
      "cell_type": "markdown",
      "metadata": {
        "id": "2Q6ngZBU-8Ta"
      },
      "source": [
        "# 6. random num"
      ]
    },
    {
      "cell_type": "code",
      "execution_count": null,
      "metadata": {
        "id": "X6sZ85R__ZZQ"
      },
      "outputs": [],
      "source": [
        "import random\n",
        "\n",
        "\n",
        "random_integer = random.randint(1, 10)\n",
        "print(f\"Random integer: {random_integer}\")\n"
      ]
    },
    {
      "cell_type": "markdown",
      "metadata": {
        "id": "oWWZ5yjy_wMs"
      },
      "source": [
        "#7.km to mile"
      ]
    },
    {
      "cell_type": "code",
      "execution_count": null,
      "metadata": {
        "id": "rho9dUso_znG"
      },
      "outputs": [],
      "source": [
        "km=float(input(\"enter a number: \"))\n",
        "\n",
        "mile=round(km*0.621371,2)\n",
        "print(f\"{km} km is: {mile } mile\")"
      ]
    },
    {
      "cell_type": "markdown",
      "metadata": {
        "id": "aLGRdnsTATrx"
      },
      "source": [
        "#8. C to F"
      ]
    },
    {
      "cell_type": "code",
      "execution_count": null,
      "metadata": {
        "colab": {
          "base_uri": "https://localhost:8080/"
        },
        "id": "GnffLqahBHeN",
        "outputId": "f3366eee-b1ce-410b-b4fc-7000b586b878"
      },
      "outputs": [
        {
          "name": "stdout",
          "output_type": "stream",
          "text": [
            "Enter temperature in Celsius: 45\n",
            "45.0 °C is equal to 113.0 °F\n"
          ]
        }
      ],
      "source": [
        "def c_to_f(c):\n",
        "    f = (c * 9/5) + 32\n",
        "    return f\n",
        "\n",
        "\n",
        "c = float(input(\"Enter temperature in Celsius: \"))\n",
        "\n",
        "f = c_to_f(c)\n",
        "\n",
        "\n",
        "print(f\"{c} °C is equal to {f} °F\")\n"
      ]
    },
    {
      "cell_type": "markdown",
      "metadata": {
        "id": "ww0wK64iB5mD"
      },
      "source": [
        "# 9. calender"
      ]
    },
    {
      "cell_type": "code",
      "execution_count": null,
      "metadata": {
        "id": "uUL3NJgCCLv2",
        "colab": {
          "base_uri": "https://localhost:8080/"
        },
        "outputId": "6178295b-249d-4c59-c98b-6c64610a0bad"
      },
      "outputs": [
        {
          "output_type": "stream",
          "name": "stdout",
          "text": [
            "enter the year: 1999\n",
            "enter the month: 10\n",
            "    October 1999\n",
            "Mo Tu We Th Fr Sa Su\n",
            "             1  2  3\n",
            " 4  5  6  7  8  9 10\n",
            "11 12 13 14 15 16 17\n",
            "18 19 20 21 22 23 24\n",
            "25 26 27 28 29 30 31\n",
            "\n"
          ]
        }
      ],
      "source": [
        "import calendar\n",
        "\n",
        "y=int(input(\"enter the year: \"))\n",
        "m=int(input(\"enter the month: \"))\n",
        "\n",
        "print(calendar.month(y,m))"
      ]
    },
    {
      "cell_type": "markdown",
      "metadata": {
        "id": "D0zAAdngCXwu"
      },
      "source": [
        "#10. pos / neg/ zero"
      ]
    },
    {
      "cell_type": "code",
      "execution_count": null,
      "metadata": {
        "id": "kKUtNv8ZChNe"
      },
      "outputs": [],
      "source": [
        "a=int(input(\"enter a number: \"))\n",
        "if(a>0):\n",
        "    print(\"positive\")\n",
        "elif(a==0):\n",
        "    print(\"zero\")\n",
        "else:\n",
        "    print(\"negative\")"
      ]
    },
    {
      "cell_type": "markdown",
      "metadata": {
        "id": "j6gF5LbiCuRQ"
      },
      "source": [
        "#11. even or odd"
      ]
    },
    {
      "cell_type": "code",
      "execution_count": null,
      "metadata": {
        "colab": {
          "base_uri": "https://localhost:8080/"
        },
        "id": "T-fS9y5RCsrt",
        "outputId": "f2528664-010e-47ef-f101-3d24a33dad43"
      },
      "outputs": [
        {
          "name": "stdout",
          "output_type": "stream",
          "text": [
            "enter a number: 8\n",
            "even\n"
          ]
        }
      ],
      "source": [
        "a=int(input(\"enter a number: \"))\n",
        "if(a%2==0):\n",
        "    print(\"even\")\n",
        "\n",
        "else:\n",
        "    print(\"odd\")"
      ]
    },
    {
      "cell_type": "markdown",
      "metadata": {
        "id": "AeXfCjxODDxb"
      },
      "source": [
        "#12. leap year"
      ]
    },
    {
      "cell_type": "code",
      "execution_count": null,
      "metadata": {
        "colab": {
          "base_uri": "https://localhost:8080/"
        },
        "id": "9SDzQQY2Dk9W",
        "outputId": "dd0e4473-1fb7-45f6-9f25-3331f3fa425a"
      },
      "outputs": [
        {
          "name": "stdout",
          "output_type": "stream",
          "text": [
            "Enter a year: 2024\n",
            "2024 is a leap year.\n"
          ]
        }
      ],
      "source": [
        "def is_leap_year(year):\n",
        "    return year % 4 == 0 and (year % 100 != 0 or year % 400 == 0)\n",
        "\n",
        "year = int(input(\"Enter a year: \"))\n",
        "if is_leap_year(year):\n",
        "    print(f\"{year} is a leap year.\")\n",
        "else:\n",
        "    print(f\"{year} is not a leap year.\")"
      ]
    },
    {
      "cell_type": "markdown",
      "metadata": {
        "id": "tkJCKxXFD83h"
      },
      "source": [
        "#13. prime num"
      ]
    },
    {
      "cell_type": "code",
      "execution_count": null,
      "metadata": {
        "colab": {
          "base_uri": "https://localhost:8080/"
        },
        "id": "Y93ZOu1DECS6",
        "outputId": "99834a78-6f67-49ef-a923-043bb3272bda"
      },
      "outputs": [
        {
          "name": "stdout",
          "output_type": "stream",
          "text": [
            "True\n",
            "True\n"
          ]
        }
      ],
      "source": [
        "is_prime=lambda n:n>1 and all(n%i!=0 for i in range(2,int(n**0.5)+1))\n",
        "print(is_prime(2))\n",
        "print(is_prime(3))"
      ]
    },
    {
      "cell_type": "markdown",
      "metadata": {
        "id": "7wPTUwWtEKXI"
      },
      "source": [
        "#14. all prime in an interval"
      ]
    },
    {
      "cell_type": "code",
      "execution_count": null,
      "metadata": {
        "id": "q0CctvsUFNoN"
      },
      "outputs": [],
      "source": [
        "def primes(start, end):\n",
        "    for num in range(start, end + 1):\n",
        "        is_prime = True\n",
        "        if num < 2:\n",
        "            continue\n",
        "        for i in range(2, int(num ** 0.5) + 1):\n",
        "            if num % i == 0:\n",
        "                is_prime = False\n",
        "                break\n",
        "        if is_prime:\n",
        "            print(num)\n",
        "start = 10\n",
        "end = 50\n",
        "primes(start, end)"
      ]
    },
    {
      "cell_type": "markdown",
      "metadata": {
        "id": "hlyMDznWFQSk"
      },
      "source": [
        "#15. factorial"
      ]
    },
    {
      "cell_type": "code",
      "execution_count": null,
      "metadata": {
        "id": "LfYooi91Fe6l"
      },
      "outputs": [],
      "source": [
        "def factorial(n):\n",
        "    if n == 0:\n",
        "        return 1\n",
        "    else:\n",
        "        return n * factorial(n-1)\n",
        "\n",
        "num = 5\n",
        "print(\"The factorial of\", num, \"is\", factorial(num))"
      ]
    },
    {
      "cell_type": "markdown",
      "metadata": {
        "id": "dzBS_Mq-FhIr"
      },
      "source": [
        "#16. multi_table"
      ]
    },
    {
      "cell_type": "code",
      "execution_count": null,
      "metadata": {
        "id": "xV1Ugz4fFuGA"
      },
      "outputs": [],
      "source": [
        "x=int(input(\"enter a number: \"))\n",
        "for i in range(1,11):\n",
        "    print(f\"{x} X {i} ={x*i}\")"
      ]
    },
    {
      "cell_type": "markdown",
      "metadata": {
        "id": "kX3YW2XmFwB0"
      },
      "source": [
        "#17. fibonacci"
      ]
    },
    {
      "cell_type": "code",
      "execution_count": null,
      "metadata": {
        "colab": {
          "base_uri": "https://localhost:8080/"
        },
        "id": "y0-y39W_FvST",
        "outputId": "eade9abe-13f9-4e0d-b667-6379fbd011dc"
      },
      "outputs": [
        {
          "name": "stdout",
          "output_type": "stream",
          "text": [
            "Enter the number of terms: 8\n",
            "[0, 1, 1, 2, 3, 5, 8, 13]\n"
          ]
        }
      ],
      "source": [
        "def fibonacci(n):\n",
        "    s = [0, 1]\n",
        "    while len(s) < n:\n",
        "        s.append(s[-1] + s[-2])\n",
        "    return s\n",
        "\n",
        "n = int(input(\"Enter the number of terms: \"))\n",
        "print(fibonacci(n))"
      ]
    },
    {
      "cell_type": "markdown",
      "metadata": {
        "id": "tNzqs2gAGdOj"
      },
      "source": [
        "#18. check armstrong"
      ]
    },
    {
      "cell_type": "code",
      "execution_count": null,
      "metadata": {
        "id": "kMVl0c8uGhOV"
      },
      "outputs": [],
      "source": [
        "x= int(input(\"enter a number: \"))\n",
        "a=str(x)\n",
        "l=len(a)\n",
        "c=0\n",
        "for i in a:\n",
        " i=int(i)\n",
        " c=c+i**l\n",
        "print(c)\n",
        "if (c==x):\n",
        " print(f\"{x} is an armstrong number.\")\n",
        "else:\n",
        " print(f\"{x} is not an armstrong number.\")\n"
      ]
    },
    {
      "cell_type": "markdown",
      "metadata": {
        "id": "zmerGfAHGlFb"
      },
      "source": [
        "#19. find armstrong"
      ]
    },
    {
      "cell_type": "code",
      "execution_count": null,
      "metadata": {
        "id": "PEdBgGY6GoSG"
      },
      "outputs": [],
      "source": [
        "lower = int(input(\"Enter lower range: \"))\n",
        "upper = int(input(\"Enter upper range: \"))\n",
        "for num in range(lower,upper + 1):\n",
        "   sum = 0\n",
        "   temp = num\n",
        "   while temp > 0:\n",
        "       digit = temp % 10\n",
        "       sum += digit ** 3\n",
        "       temp //= 10\n",
        "       if num == sum:\n",
        "            print(num)"
      ]
    },
    {
      "cell_type": "markdown",
      "metadata": {
        "id": "UmsqDzz2G0Cx"
      },
      "source": [
        "#20. sum"
      ]
    },
    {
      "cell_type": "code",
      "execution_count": null,
      "metadata": {
        "id": "8g3MqM2OHhup"
      },
      "outputs": [],
      "source": [
        "x=(int(input(\"enter a number: \")))\n",
        "count=0\n",
        "for i in range(1,x+1):\n",
        "    count=count+i\n",
        "print(count)"
      ]
    },
    {
      "cell_type": "markdown",
      "metadata": {
        "id": "mvpp4IQzHj6C"
      },
      "source": [
        "#21. reverse str"
      ]
    },
    {
      "cell_type": "code",
      "execution_count": null,
      "metadata": {
        "id": "aLdHHN8KH79J"
      },
      "outputs": [],
      "source": [
        "def reverse_string(s):\n",
        "    return s[::-1]\n",
        "print(reverse_string(\"hello,world\"))"
      ]
    },
    {
      "cell_type": "markdown",
      "metadata": {
        "id": "LQgovrZbH9BF"
      },
      "source": [
        "#22. sum of first ten natural num"
      ]
    },
    {
      "cell_type": "code",
      "execution_count": null,
      "metadata": {
        "id": "TcjPGribIURs"
      },
      "outputs": [],
      "source": [
        "sum = 0\n",
        "for i in range(1, 11):\n",
        "    sum += i\n",
        "print(\"The sum of the first ten natural numbers is:\", sum)"
      ]
    },
    {
      "cell_type": "markdown",
      "metadata": {
        "id": "j3Xo2cfEIfb3"
      },
      "source": [
        "#23. LCM"
      ]
    },
    {
      "cell_type": "code",
      "execution_count": null,
      "metadata": {
        "id": "QhLB4sIDIuy3"
      },
      "outputs": [],
      "source": [
        "import math\n",
        "\n",
        "def lcm(a, b):\n",
        "    return abs(a * b) // math.gcd(a, b)\n",
        "\n",
        "num1 = 12\n",
        "num2 = 15\n",
        "print(f\"LCM of {num1} and {num2} is {lcm(num1, num2)}\")"
      ]
    },
    {
      "cell_type": "markdown",
      "metadata": {
        "id": "8WrBez-qIwZu"
      },
      "source": [
        "#24. HCF"
      ]
    },
    {
      "cell_type": "code",
      "execution_count": null,
      "metadata": {
        "id": "DYlRZmIaIznw"
      },
      "outputs": [],
      "source": [
        "def hcf(a, b):\n",
        "    while b != 0:\n",
        "        a, b = b, a % b\n",
        "    return a\n",
        "\n",
        "num1 = 48\n",
        "num2 = 18\n",
        "print(f\"HCF of {num1} and {num2} is {hcf(num1, num2)}\")"
      ]
    },
    {
      "cell_type": "markdown",
      "metadata": {
        "id": "FZ_T_A9iI7ib"
      },
      "source": [
        "#25. dec to bin, oct, hex"
      ]
    },
    {
      "cell_type": "code",
      "execution_count": null,
      "metadata": {
        "colab": {
          "base_uri": "https://localhost:8080/"
        },
        "id": "khKphMuMJMng",
        "outputId": "e0d9bf10-4351-4ea1-b2ec-2387167906d0"
      },
      "outputs": [
        {
          "name": "stdout",
          "output_type": "stream",
          "text": [
            "enter a decimal number:20\n",
            "the binary of 20 is 0b10100\n",
            "the octal of 20 is 0o24\n",
            "the hexadecimal of 20 is0x14\n"
          ]
        }
      ],
      "source": [
        "x=input(\"enter a decimal number:\")\n",
        "\n",
        "print(f\"the binary of {x} is {bin(int(x))}\")\n",
        "\n",
        "print(f\"the octal of {x} is {oct(int(x))}\")\n",
        "\n",
        "print(f\"the hexadecimal of {x} is{hex(int(x))}\")"
      ]
    },
    {
      "cell_type": "markdown",
      "metadata": {
        "id": "fbusdrkFJoa8"
      },
      "source": [
        "#26. ASCII value"
      ]
    },
    {
      "cell_type": "code",
      "execution_count": null,
      "metadata": {
        "colab": {
          "base_uri": "https://localhost:8080/"
        },
        "id": "oim-vNnsJrm0",
        "outputId": "224ade86-c2f0-4b93-daae-a4a0029745e3"
      },
      "outputs": [
        {
          "name": "stdout",
          "output_type": "stream",
          "text": [
            "Please enter a character: d\n",
            "The ASCII value of 'd' is  100\n"
          ]
        }
      ],
      "source": [
        "a = input(\"Please enter a character: \")\n",
        "\n",
        "print (\"The ASCII value of '\" + a + \"' is \", ord(a))"
      ]
    },
    {
      "cell_type": "markdown",
      "metadata": {
        "id": "NGSU7wAfJyWB"
      },
      "source": [
        "# 27. calculator"
      ]
    },
    {
      "cell_type": "code",
      "execution_count": null,
      "metadata": {
        "colab": {
          "base_uri": "https://localhost:8080/"
        },
        "id": "HmMeYmxKKTDw",
        "outputId": "241e2e9b-8ca6-47aa-e2b8-de7d6786a5bd"
      },
      "outputs": [
        {
          "output_type": "stream",
          "name": "stdout",
          "text": [
            "Please select the operation.\n",
            "a. Add\n",
            "b. Subtract\n",
            "c. Multiply\n",
            "d. Divide\n",
            "Please enter choice (a/ b/ c/ d): a\n",
            "Please enter the first number: 75\n",
            "Please enter the second number: 25\n",
            "75  +  25  =  100\n"
          ]
        }
      ],
      "source": [
        "def add(P, Q):\n",
        "       # This function is used for adding two numbers\n",
        " return P + Q\n",
        "def subtract(P, Q):\n",
        "       # This function is used for subtracting two numbers\n",
        "       return P - Q\n",
        "def multiply(P, Q):\n",
        "       # This function is used for multiplying two numbers\n",
        "       return P * Q\n",
        "def divide(P, Q):\n",
        "       # This function is used for dividing two numbers\n",
        "       return P / Q\n",
        "    # Now we will take inputs from the user\n",
        "print (\"Please select the operation.\")\n",
        "print (\"a. Add\")\n",
        "print (\"b. Subtract\")\n",
        "print (\"c. Multiply\")\n",
        "print (\"d. Divide\")\n",
        "\n",
        "choice = input(\"Please enter choice (a/ b/ c/ d): \")\n",
        "\n",
        "num_1 = int (input (\"Please enter the first number: \"))\n",
        "num_2 = int (input (\"Please enter the second number: \"))\n",
        "\n",
        "if choice == 'a':\n",
        "       print (num_1, \" + \", num_2, \" = \", add(num_1, num_2))\n",
        "\n",
        "elif choice == 'b':\n",
        "       print (num_1, \" - \", num_2, \" = \", subtract(num_1, num_2))\n",
        "\n",
        "elif choice == 'c':\n",
        "       print (num1, \" * \", num2, \" = \", multiply(num1, num2))\n",
        "elif choice == 'd':\n",
        "       print (num_1, \" / \", num_2, \" = \", divide(num_1, num_2))\n",
        "else:\n",
        "       print (\"This is an invalid input\")"
      ]
    },
    {
      "cell_type": "markdown",
      "metadata": {
        "id": "V2PsPj3eKf2G"
      },
      "source": [
        "#28. fibonacci recursion"
      ]
    },
    {
      "cell_type": "code",
      "execution_count": null,
      "metadata": {
        "colab": {
          "base_uri": "https://localhost:8080/"
        },
        "id": "5sjX9wMTKvDf",
        "outputId": "c7759691-b0d5-4890-c5be-725897bf7a5d"
      },
      "outputs": [
        {
          "name": "stdout",
          "output_type": "stream",
          "text": [
            "Fibonacci sequence with 10 terms: [0, 1, 1, 2, 3, 5, 8, 13, 21, 34]\n"
          ]
        }
      ],
      "source": [
        "def fibonacci(n):\n",
        "    if n <= 0:\n",
        "        return []\n",
        "    elif n == 1:\n",
        "        return [0]\n",
        "    elif n == 2:\n",
        "        return [0, 1]\n",
        "    else:\n",
        "        fib_seq = fibonacci(n - 1)\n",
        "        fib_seq.append(fib_seq[-1] + fib_seq[-2])\n",
        "        return fib_seq\n",
        "\n",
        "# Specify the number of Fibonacci terms you want\n",
        "num_terms = 10\n",
        "fib_sequence = fibonacci(num_terms)\n",
        "print(f\"Fibonacci sequence with {num_terms} terms: {fib_sequence}\")"
      ]
    },
    {
      "cell_type": "markdown",
      "metadata": {
        "id": "PW29SupTLmqF"
      },
      "source": [
        "#29. fact recursion"
      ]
    },
    {
      "cell_type": "code",
      "execution_count": null,
      "metadata": {
        "id": "mhhqayooLrAP"
      },
      "outputs": [],
      "source": [
        "def factorial(n):\n",
        "    if n < 0:\n",
        "        return \"Factorial is not defined for negative numbers\"\n",
        "    elif n == 0 or n == 1:\n",
        "        return 1\n",
        "    else:\n",
        "        return n * factorial(n - 1)\n",
        "\n",
        "# Input number for which you want to find the factorial\n",
        "num = 5  # Change this to any non-negative integer\n",
        "result = factorial(num)\n",
        "print(f\"The factorial of {num} is: {result}\")"
      ]
    },
    {
      "cell_type": "markdown",
      "metadata": {
        "id": "7L0wmUAkK1JK"
      },
      "source": [
        "#30. power"
      ]
    },
    {
      "cell_type": "code",
      "execution_count": null,
      "metadata": {
        "colab": {
          "base_uri": "https://localhost:8080/"
        },
        "id": "lEAVuTGMK_ih",
        "outputId": "1c43cf22-418f-4178-c761-b57958918c49"
      },
      "outputs": [
        {
          "name": "stdout",
          "output_type": "stream",
          "text": [
            "enter the base: 5\n",
            "enter the power: 3\n",
            "5^3 = 125\n"
          ]
        }
      ],
      "source": [
        "a=int(input(\"enter the base: \"))\n",
        "b=int(input(\"enter the power: \"))\n",
        "\n",
        "print( a**b)"
      ]
    },
    {
      "cell_type": "markdown",
      "metadata": {
        "id": "JcZX-cNwLNFY"
      },
      "source": [
        "## 31. add matrices"
      ]
    },
    {
      "cell_type": "code",
      "execution_count": null,
      "metadata": {
        "colab": {
          "base_uri": "https://localhost:8080/"
        },
        "id": "at5AzyjuL8ut",
        "outputId": "f73504cb-c15c-4757-8705-6436a4095fa8"
      },
      "outputs": [
        {
          "name": "stdout",
          "output_type": "stream",
          "text": [
            "[11, 13, 15]\n",
            "[17, 19, 21]\n",
            "[23, 25, 27]\n"
          ]
        }
      ],
      "source": [
        "X = [[1,2,3],\n",
        "           [4,5,6],\n",
        "           [7,8,9]]\n",
        "\n",
        "Y = [[10,11,12],\n",
        "           [13,14,15],\n",
        "           [16,17,18]]\n",
        "\n",
        "Result = [[0,0,0],\n",
        "        [0,0,0],\n",
        "        [0,0,0]]\n",
        "    # iterate through rows\n",
        "for i in range(len(X)):\n",
        "       # iterate through columns\n",
        "       for j in range(len(X[0])):\n",
        "           Result[i][j] = X[i][j] + Y[i][j]\n",
        "for r in Result:\n",
        "       print(r)"
      ]
    },
    {
      "cell_type": "markdown",
      "metadata": {
        "id": "OHRmzgdQMDaR"
      },
      "source": [
        "#32. miutiply matrix"
      ]
    },
    {
      "cell_type": "code",
      "execution_count": null,
      "metadata": {
        "id": "ZWILhzvcMVCh"
      },
      "outputs": [],
      "source": [
        "a = [[1,2,3],\n",
        "        [4,5,6],\n",
        "        [7,8,9]]\n",
        "b = [[0,0,1],\n",
        "       [0,1,0],\n",
        "       [1,0,0]]\n",
        "res = [[0,0,0],\n",
        "         [0,0,0],\n",
        "         [0,0,0]]\n",
        "for i in range(len(a)):\n",
        "   for j in range(len(b[0])):\n",
        "       for k in range(len(b)):\n",
        "           res[i][j] += a[i][k] * b[k][j]\n",
        "for r in res:\n",
        "   print(r)"
      ]
    },
    {
      "cell_type": "markdown",
      "metadata": {
        "id": "SkrZ9BMIMcDk"
      },
      "source": [
        "# 33. transpose matrix"
      ]
    },
    {
      "cell_type": "code",
      "execution_count": null,
      "metadata": {
        "colab": {
          "base_uri": "https://localhost:8080/"
        },
        "id": "r8K_N1OMZ-T-",
        "outputId": "7850e10e-0840-44ed-fbe3-bb68724c7ef9"
      },
      "outputs": [
        {
          "name": "stdout",
          "output_type": "stream",
          "text": [
            "The transpose of matrix A is: \n",
            "[5, 2, 4, 8]\n",
            "[4, 4, 7, 1]\n",
            "[3, 6, 9, 3]\n"
          ]
        }
      ],
      "source": [
        "A = [[5, 4, 3],\n",
        "    [2, 4, 6],\n",
        "    [4, 7, 9],\n",
        "    [8, 1, 3]]\n",
        "\n",
        "transResult = [[0, 0, 0, 0],\n",
        "                                 [0, 0, 0, 0],\n",
        "                                 [0, 0, 0, 0]]\n",
        "    # Use nested for loop on matrix A\n",
        "for a in range(len(A)):\n",
        "       for b in range(len(A[0])):\n",
        "              transResult[b][a] = A[a][b]\n",
        "    # Printing result in the output\n",
        "print(\"The transpose of matrix A is: \")\n",
        "for res in transResult:\n",
        "       print(res)"
      ]
    },
    {
      "cell_type": "markdown",
      "metadata": {
        "id": "YFZ6_cjKahca"
      },
      "source": [
        "# 34. sort word in alphabetically"
      ]
    },
    {
      "cell_type": "code",
      "execution_count": null,
      "metadata": {
        "colab": {
          "background_save": true
        },
        "id": "J8F0TpvCbCAn"
      },
      "outputs": [],
      "source": [
        "def sort_alphabetically(sentence):\n",
        "    words=sentence.split()\n",
        "    words.sort()\n",
        "    return words\n",
        "print(sort_alphabetically(\"my name is sithi\"))"
      ]
    },
    {
      "cell_type": "markdown",
      "source": [
        "#35. remove punctuation"
      ],
      "metadata": {
        "id": "DeLVY_7bkr36"
      }
    },
    {
      "cell_type": "code",
      "source": [
        "import string\n",
        "\n",
        "def remove_punctuation(text):\n",
        "    translator = str.maketrans('', '', string.punctuation)\n",
        "    return text.translate(translator)\n",
        "\n",
        "print(remove_punctuation(str(input(\" enter a string \"))))"
      ],
      "metadata": {
        "id": "wKnlEqgCkwao"
      },
      "execution_count": null,
      "outputs": []
    },
    {
      "cell_type": "markdown",
      "source": [
        "#36. list to str"
      ],
      "metadata": {
        "id": "LoUKHFYYlBD2"
      }
    },
    {
      "cell_type": "code",
      "source": [
        "list = ['Hello', 'World']\n",
        "string = ''\n",
        "for element in list:\n",
        "    string += element + ' '\n",
        "print(string)"
      ],
      "metadata": {
        "id": "5V0VTLaXle-F"
      },
      "execution_count": null,
      "outputs": []
    },
    {
      "cell_type": "markdown",
      "source": [
        "#37. int to str"
      ],
      "metadata": {
        "id": "0MghjU7OlgyM"
      }
    },
    {
      "cell_type": "code",
      "source": [
        "n = 10\n",
        "print(type(n))\n",
        "converted_n = str(n)\n",
        "print(type(converted_n))"
      ],
      "metadata": {
        "id": "MSCbDqt8llt8"
      },
      "execution_count": null,
      "outputs": []
    },
    {
      "cell_type": "markdown",
      "source": [
        "#38. concatenation"
      ],
      "metadata": {
        "id": "7RLEqDtFlqYt"
      }
    },
    {
      "cell_type": "code",
      "source": [
        "a=\"he\"\n",
        "b=\"llo\"\n",
        "\n",
        "c=a+b\n",
        "print(c)"
      ],
      "metadata": {
        "colab": {
          "base_uri": "https://localhost:8080/"
        },
        "id": "WL48v6-llwgl",
        "outputId": "2a230cd2-106b-4b37-eb3e-a2f159265966"
      },
      "execution_count": null,
      "outputs": [
        {
          "output_type": "stream",
          "name": "stdout",
          "text": [
            "hello\n"
          ]
        }
      ]
    },
    {
      "cell_type": "markdown",
      "source": [
        "#39. random str"
      ],
      "metadata": {
        "id": "RcmsMw8Sl4d6"
      }
    },
    {
      "cell_type": "code",
      "source": [
        "import random\n",
        "import string\n",
        "\n",
        "def generate_random_string(length):\n",
        "    return ''.join(random.choice(string.ascii_letters + string.digits) for _ in range(length))\n",
        "print(\"Random string of length 5: \", generate_random_string(5))"
      ],
      "metadata": {
        "id": "vYbnxeZOl2ru"
      },
      "execution_count": null,
      "outputs": []
    },
    {
      "cell_type": "markdown",
      "source": [
        "#40. palindrome str"
      ],
      "metadata": {
        "id": "B9PmD849mJPf"
      }
    },
    {
      "cell_type": "code",
      "source": [
        "def is_palindrome(s):\n",
        "    return s.replace(\" \", \"\").lower() == s.replace(\" \", \"\").lower()[::-1]\n",
        "input_str = input(\"Enter a string: \")\n",
        "if is_palindrome(input_str):\n",
        "    print(f\"'{input_str}' is a palindrome.\")\n",
        "else:\n",
        "    print(f\"'{input_str}' is not a palindrome.\")"
      ],
      "metadata": {
        "colab": {
          "base_uri": "https://localhost:8080/"
        },
        "id": "bLeHBS-kmRfw",
        "outputId": "966985d6-7ba7-46fe-a3e5-934fb753a9a9"
      },
      "execution_count": null,
      "outputs": [
        {
          "output_type": "stream",
          "name": "stdout",
          "text": [
            "Enter a string: lala\n",
            "'lala' is not a palindrome.\n"
          ]
        }
      ]
    },
    {
      "cell_type": "markdown",
      "source": [
        "#41. uppercase lowercase"
      ],
      "metadata": {
        "id": "xoVabYPqmzTF"
      }
    },
    {
      "cell_type": "code",
      "source": [
        "def convert_case(s):\n",
        "\n",
        "    converted_string = ''.join(char.upper() if char.islower() else char.lower() for char in s)\n",
        "    return converted_string\n",
        "\n",
        "print(convert_case(\"Hello World! This is Python.\"))"
      ],
      "metadata": {
        "colab": {
          "base_uri": "https://localhost:8080/"
        },
        "id": "vWp8q3kjpq1i",
        "outputId": "93ebbdd2-c3bf-47f0-ab49-8aede6389585"
      },
      "execution_count": null,
      "outputs": [
        {
          "output_type": "stream",
          "name": "stdout",
          "text": [
            "hELLO wORLD! tHIS IS pYTHON.\n"
          ]
        }
      ]
    },
    {
      "cell_type": "markdown",
      "source": [
        "#42. substring"
      ],
      "metadata": {
        "id": "Ygu3YjDUqaXV"
      }
    },
    {
      "cell_type": "code",
      "source": [
        "main_string = \"Hello, hello, hello, hello world!\"\n",
        "sub_string = \"hello\"\n",
        "occurrences = main_string.lower().count(sub_string.lower())\n",
        "\n",
        "print(f\"The substring '{sub_string}' occurs {occurrences} times in the string.\")"
      ],
      "metadata": {
        "id": "C-zw7hZ1sajw"
      },
      "execution_count": null,
      "outputs": []
    },
    {
      "cell_type": "markdown",
      "source": [
        "#43. Append"
      ],
      "metadata": {
        "id": "hdN7iiBjsiZy"
      }
    },
    {
      "cell_type": "code",
      "source": [
        "list=[1,4,3,'sithi']\n",
        "\n",
        "list.append('sumu')\n",
        "\n",
        "print (list)"
      ],
      "metadata": {
        "colab": {
          "base_uri": "https://localhost:8080/"
        },
        "id": "sYbenJ8VswFM",
        "outputId": "da5468ca-58e7-42c2-ec3e-31772e0d0f37"
      },
      "execution_count": null,
      "outputs": [
        {
          "output_type": "stream",
          "name": "stdout",
          "text": [
            "[1, 4, 3, 'sithi', 'sumu']\n"
          ]
        }
      ]
    },
    {
      "cell_type": "markdown",
      "source": [
        "#44 compare two list"
      ],
      "metadata": {
        "id": "pohcS2DAtE4x"
      }
    },
    {
      "cell_type": "code",
      "source": [
        "list1 = [11, 12, 13, 14, 15]\n",
        "list2 = [12, 13, 11, 15, 14]\n",
        "\n",
        "a = set(list1)\n",
        "b = set(list2)\n",
        "\n",
        "if a == b:\n",
        "    print(\"The list1 and list2 are equal\")\n",
        "else:\n",
        "    print(\"The list1 and list2 are not equal\")"
      ],
      "metadata": {
        "colab": {
          "base_uri": "https://localhost:8080/"
        },
        "id": "uxNDeO4ws-cM",
        "outputId": "70cc8584-e01b-49ae-ff6e-feda9b24de6b"
      },
      "execution_count": null,
      "outputs": [
        {
          "output_type": "stream",
          "name": "stdout",
          "text": [
            "The list1 and list2 are equal\n"
          ]
        }
      ]
    },
    {
      "cell_type": "markdown",
      "source": [
        "#45. list to dict"
      ],
      "metadata": {
        "id": "_p0LFFtrtdXi"
      }
    },
    {
      "cell_type": "code",
      "source": [
        "fruits = ['apple', 'banana', 'cherry']\n",
        "\n",
        "fruit_dict = {}\n",
        "\n",
        "\n",
        "for idx, fruit in enumerate(fruits):\n",
        "    fruit_dict[idx] = fruit\n",
        "\n",
        "print(fruit_dict)"
      ],
      "metadata": {
        "id": "CDlV1yPIthgU",
        "colab": {
          "base_uri": "https://localhost:8080/"
        },
        "outputId": "38d7dcc4-c38d-442a-be01-1862eeb489ff"
      },
      "execution_count": null,
      "outputs": [
        {
          "output_type": "stream",
          "name": "stdout",
          "text": [
            "{0: 'apple', 1: 'banana', 2: 'cherry'}\n"
          ]
        }
      ]
    },
    {
      "cell_type": "markdown",
      "source": [
        "#46. remove item from list"
      ],
      "metadata": {
        "id": "Ca-4EKRGt6lq"
      }
    },
    {
      "cell_type": "code",
      "source": [
        "list = [1, 8, 4, 9]\n",
        "print(\"Original list:\", list)\n",
        "list.remove(4)\n",
        "print(\"List after remove:\", list)"
      ],
      "metadata": {
        "colab": {
          "base_uri": "https://localhost:8080/"
        },
        "id": "ZpQXHayft5jz",
        "outputId": "c931c765-d141-4e8b-c059-cd8d6b47b6e9"
      },
      "execution_count": null,
      "outputs": [
        {
          "output_type": "stream",
          "name": "stdout",
          "text": [
            "Original list: [1, 8, 4, 9]\n",
            "List after remove: [1, 8, 9]\n"
          ]
        }
      ]
    },
    {
      "cell_type": "markdown",
      "source": [
        "#47. Add 2 list"
      ],
      "metadata": {
        "id": "kugy9fF4uEMZ"
      }
    },
    {
      "cell_type": "code",
      "source": [
        "a=[1,3,7,4]\n",
        "b=[2,4,7,6]\n",
        "a.extend(b)\n",
        "print(a)"
      ],
      "metadata": {
        "id": "ZStyMSuEuWb7"
      },
      "execution_count": null,
      "outputs": []
    },
    {
      "cell_type": "markdown",
      "source": [
        "#48. list to set"
      ],
      "metadata": {
        "id": "j7nNfgVPuaB0"
      }
    },
    {
      "cell_type": "code",
      "source": [
        "a=[1,2,3,5,4,3]\n",
        "b=set(a)\n",
        "print(b)\n",
        "print(type(b))"
      ],
      "metadata": {
        "colab": {
          "base_uri": "https://localhost:8080/"
        },
        "id": "K7bprQIWulA0",
        "outputId": "de6da381-fd4c-4082-ade6-dc09c5cfa211"
      },
      "execution_count": null,
      "outputs": [
        {
          "output_type": "stream",
          "name": "stdout",
          "text": [
            "{1, 2, 3, 4, 5}\n",
            "<class 'set'>\n"
          ]
        }
      ]
    },
    {
      "cell_type": "markdown",
      "source": [
        "#49. list to str"
      ],
      "metadata": {
        "id": "oZvGjAVdunSc"
      }
    },
    {
      "cell_type": "code",
      "source": [
        "list = ['apple', 'banana', 'cherry']\n",
        "string = f\"{' '.join(list)}\"\n",
        "print(string)"
      ],
      "metadata": {
        "colab": {
          "base_uri": "https://localhost:8080/"
        },
        "id": "pNPpva89u2Kf",
        "outputId": "ef017361-07a6-4a74-df7f-9f893a48bf3c"
      },
      "execution_count": null,
      "outputs": [
        {
          "output_type": "stream",
          "name": "stdout",
          "text": [
            "apple banana cherry\n"
          ]
        }
      ]
    },
    {
      "cell_type": "markdown",
      "source": [
        "#50. remove duplicates from list"
      ],
      "metadata": {
        "id": "-jkDnVBfu51Q"
      }
    },
    {
      "cell_type": "code",
      "source": [
        "my_list = [1, 2, 3, 1, 2, 4]\n",
        "unique_list = list(set(my_list))\n",
        "print(unique_list)\n"
      ],
      "metadata": {
        "id": "mL1rZw1RvfRC"
      },
      "execution_count": null,
      "outputs": []
    }
  ],
  "metadata": {
    "colab": {
      "provenance": [],
      "gpuType": "T4"
    },
    "kernelspec": {
      "display_name": "Python 3",
      "name": "python3"
    },
    "language_info": {
      "name": "python"
    },
    "accelerator": "GPU"
  },
  "nbformat": 4,
  "nbformat_minor": 0
}